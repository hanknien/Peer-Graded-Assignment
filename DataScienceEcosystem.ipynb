{
 "cells": [
  {
   "cell_type": "markdown",
   "id": "be0cc810-eb78-42f6-88bb-bf3508e611fd",
   "metadata": {
    "tags": []
   },
   "source": [
    "# Data Science Tools and Ecosystem"
   ]
  },
  {
   "cell_type": "markdown",
   "id": "e440ce9f-6fa0-4315-bfbb-693999e7f317",
   "metadata": {},
   "source": [
    "In this notebook, Data Science Tools and Ecosystem are summarized."
   ]
  },
  {
   "cell_type": "markdown",
   "id": "dc5573e5-53c7-4011-a188-7456f4639bbc",
   "metadata": {},
   "source": [
    "Some of the popular languages that Data Scientists use are:"
   ]
  },
  {
   "cell_type": "markdown",
   "id": "2de29ca0-daa8-4c9d-808c-2dc1f5bad1d0",
   "metadata": {},
   "source": [
    "1. Python\n",
    "2. R\n",
    "3. SQL"
   ]
  },
  {
   "cell_type": "markdown",
   "id": "e3ec9211-45e2-427a-8a40-db50ef608d6b",
   "metadata": {},
   "source": [
    "Some of the commonly used libraries used by Data Scientists include:"
   ]
  },
  {
   "cell_type": "markdown",
   "id": "51465c13-c428-43af-b6cb-7d0b71c85c1b",
   "metadata": {},
   "source": [
    "1. Pandas\n",
    "2. Numpy\n",
    "3. Scipy"
   ]
  },
  {
   "cell_type": "markdown",
   "id": "d1e0f0d6-5e37-48a8-8892-7b5138fa77a4",
   "metadata": {},
   "source": [
    "| Data Science Tools |\n",
    "|--------------------|\n",
    "| Jupyter Notebook |\n",
    "| RStudio|\n",
    "| GitHub|"
   ]
  },
  {
   "cell_type": "markdown",
   "id": "b476b9cf-6cf6-4e1e-9a25-77389eb885d0",
   "metadata": {},
   "source": [
    "### Below are a few examples of evaluating arithmetic expressions in Python"
   ]
  },
  {
   "cell_type": "code",
   "execution_count": 4,
   "id": "1a5025dc-2b12-4ed0-9a49-8aefd157b487",
   "metadata": {},
   "outputs": [
    {
     "data": {
      "text/plain": [
       "100"
      ]
     },
     "execution_count": 4,
     "metadata": {},
     "output_type": "execute_result"
    }
   ],
   "source": [
    "# This a simple arithmetic expression to mutiply then add integers\n",
    "(20+5)*4"
   ]
  },
  {
   "cell_type": "code",
   "execution_count": 5,
   "id": "ebc7f1d5-c685-4c33-acfb-acbbc17eabd4",
   "metadata": {},
   "outputs": [
    {
     "data": {
      "text/plain": [
       "3.3333333333333335"
      ]
     },
     "execution_count": 5,
     "metadata": {},
     "output_type": "execute_result"
    }
   ],
   "source": [
    "# This will convert 200 minutes to hours by diving by 60\n",
    "200.0/60"
   ]
  },
  {
   "cell_type": "markdown",
   "id": "2013cbe0-f82a-4fdb-bbbf-9c432d6b9e23",
   "metadata": {},
   "source": [
    "**Objective:**"
   ]
  },
  {
   "cell_type": "markdown",
   "id": "9c227203-f948-40b7-bdc2-83a4cb24c60d",
   "metadata": {},
   "source": [
    "* List popular languages for Data Science\n",
    "* List commonly used libraries\n",
    "* Evaluate arithmetic expression"
   ]
  },
  {
   "cell_type": "markdown",
   "id": "d2486d92-af75-4b7a-b0cb-63d879810204",
   "metadata": {},
   "source": [
    "## Author\n",
    "CHE-WEI NIEN"
   ]
  },
  {
   "cell_type": "code",
   "execution_count": null,
   "id": "98fc49ec-f0cc-4a6a-9cb3-92627a45d65f",
   "metadata": {},
   "outputs": [],
   "source": []
  }
 ],
 "metadata": {
  "kernelspec": {
   "display_name": "Python",
   "language": "python",
   "name": "conda-env-python-py"
  },
  "language_info": {
   "codemirror_mode": {
    "name": "ipython",
    "version": 3
   },
   "file_extension": ".py",
   "mimetype": "text/x-python",
   "name": "python",
   "nbconvert_exporter": "python",
   "pygments_lexer": "ipython3",
   "version": "3.7.12"
  }
 },
 "nbformat": 4,
 "nbformat_minor": 5
}
