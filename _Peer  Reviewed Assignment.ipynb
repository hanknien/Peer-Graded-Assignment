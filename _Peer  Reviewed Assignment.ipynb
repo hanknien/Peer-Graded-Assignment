{
 "cells": [
  {
   "cell_type": "markdown",
   "id": "f9fda299-775c-453c-a621-c03cc2fc5f7b",
   "metadata": {},
   "source": [
    "# My Jupyter Notebook on IBM Watson Studio"
   ]
  },
  {
   "cell_type": "markdown",
   "id": "92f09c29-87be-44b3-8cb3-30f31dafbe1e",
   "metadata": {},
   "source": [
    "**CHE-WEI NIEN**\n",
    "\n",
    "Quantitative Trader"
   ]
  },
  {
   "cell_type": "markdown",
   "id": "e6fb3132-742f-4b28-b45a-d8147ecef2ab",
   "metadata": {},
   "source": [
    "*I am interested in data science because I want to earn money from market data*"
   ]
  },
  {
   "cell_type": "markdown",
   "id": "c0cf7169-c9be-4347-9ce9-af8b9fbc67b2",
   "metadata": {},
   "source": [
    "### The following code creates add function"
   ]
  },
  {
   "cell_type": "code",
   "execution_count": 4,
   "id": "a45beabd-a1f4-4832-bd46-6222ed5fe00b",
   "metadata": {},
   "outputs": [
    {
     "data": {
      "text/plain": [
       "30"
      ]
     },
     "execution_count": 4,
     "metadata": {},
     "output_type": "execute_result"
    }
   ],
   "source": [
    "def add(x, y):\n",
    "    return x+y\n",
    "\n",
    "\n",
    "add(10, 20)"
   ]
  },
  {
   "cell_type": "markdown",
   "id": "b5937452-dee3-4b47-821f-e1e2ac437678",
   "metadata": {},
   "source": [
    "***"
   ]
  },
  {
   "cell_type": "markdown",
   "id": "4db92511-c381-4333-8e4d-7bd956a092b9",
   "metadata": {},
   "source": [
    "My favorite search engine is [Google](https://google.com)"
   ]
  },
  {
   "cell_type": "markdown",
   "id": "3ab58195-f31c-4472-b80e-5d2fd95ba0b2",
   "metadata": {},
   "source": [
    "* A\n",
    "* B\n",
    "* C\n",
    "* D"
   ]
  },
  {
   "cell_type": "markdown",
   "id": "8d607fe2-2cca-4ea3-86a3-16e2757ae850",
   "metadata": {},
   "source": [
    "| Tables        | Are           | Cool  |\n",
    "| ------------- |------------ | ----- |\n",
    "| col 3 is      | right-aligned |    1600 |\n",
    "| col 2 is      | centered      |12 |\n",
    "| zebra stripes | are neat      |    $1 |\n",
    "| b | c | d |"
   ]
  },
  {
   "cell_type": "code",
   "execution_count": null,
   "id": "363a81b7-c517-4d10-ba47-6bb386fb1b37",
   "metadata": {},
   "outputs": [],
   "source": []
  }
 ],
 "metadata": {
  "kernelspec": {
   "display_name": "Python",
   "language": "python",
   "name": "conda-env-python-py"
  },
  "language_info": {
   "codemirror_mode": {
    "name": "ipython",
    "version": 3
   },
   "file_extension": ".py",
   "mimetype": "text/x-python",
   "name": "python",
   "nbconvert_exporter": "python",
   "pygments_lexer": "ipython3",
   "version": "3.7.12"
  }
 },
 "nbformat": 4,
 "nbformat_minor": 5
}
